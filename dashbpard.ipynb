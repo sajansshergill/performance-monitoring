{
 "cells": [
  {
   "cell_type": "code",
   "execution_count": null,
   "metadata": {},
   "outputs": [],
   "source": [
    "# Imports\n",
    "import pandas as pd\n",
    "import matplotlib.pyplot as plt\n",
    "import psycopg2\n",
    "from db_config import get_db_connection\n",
    "\n",
    "# Load data\n",
    "conn = get_db_connection()\n",
    "df = pd.read_sql(\"SELECT * FROM infra_data\", conn)\n",
    "\n",
    "# Time series: average cable load\n",
    "df[\"timestamp\"] = pd.to_datetime(df[\"timestamp\"])\n",
    "df.set_index(\"timestamp\", inplace=True)\n",
    "df.groupby(df.index)[\"cable_load_kw\"].mean().plot(figsize=(10, 5), title=\"Avg Cable Load Over Time\")\n",
    "plt.ylabel(\"kW\")\n",
    "plt.grid(True)\n",
    "plt.show()\n",
    "\n",
    "# Occupancy Heatmap or alert for high load\n",
    "high_load = df[df[\"cable_load_kw\"] > 4.5]\n",
    "print(\"⚠️ High cable load detected in zones:\")\n",
    "print(high_load[[\"floor\", \"zone\", \"cable_load_kw\"]].drop_duplicates())\n"
   ]
  },
  {
   "cell_type": "code",
   "execution_count": null,
   "metadata": {},
   "outputs": [],
   "source": []
  }
 ],
 "metadata": {
  "language_info": {
   "name": "python"
  }
 },
 "nbformat": 4,
 "nbformat_minor": 2
}
